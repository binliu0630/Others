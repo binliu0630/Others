{
  "nbformat": 4,
  "nbformat_minor": 0,
  "metadata": {
    "colab": {
      "provenance": [],
      "authorship_tag": "ABX9TyOxrqGMVyKMiZ5RxxAxD1Tx",
      "include_colab_link": true
    },
    "kernelspec": {
      "name": "python3",
      "display_name": "Python 3"
    },
    "language_info": {
      "name": "python"
    }
  },
  "cells": [
    {
      "cell_type": "markdown",
      "metadata": {
        "id": "view-in-github",
        "colab_type": "text"
      },
      "source": [
        "<a href=\"https://colab.research.google.com/github/binliu0630/Others/blob/master/Advance_Regex_with_Python.ipynb\" target=\"_parent\"><img src=\"https://colab.research.google.com/assets/colab-badge.svg\" alt=\"Open In Colab\"/></a>"
      ]
    },
    {
      "cell_type": "code",
      "execution_count": 29,
      "metadata": {
        "id": "oThQyXLHogp2"
      },
      "outputs": [],
      "source": [
        "import re\n",
        "string = \"\"\"\n",
        "Fitness Center 10-3225 2501 LAKEVIEW PARKWAY ROWLETT, TX 75089 something else\n",
        "\"\"\""
      ]
    },
    {
      "cell_type": "code",
      "source": [
        "# using() to return part of the pattern\n",
        "pattern = r'(\\d{2}-)\\d{4}'\n",
        "re.findall(pattern, string)"
      ],
      "metadata": {
        "colab": {
          "base_uri": "https://localhost:8080/"
        },
        "id": "bjtkCzx5oiqr",
        "outputId": "a5d53b01-8b2a-4831-e0bc-1cec27252f04"
      },
      "execution_count": 24,
      "outputs": [
        {
          "output_type": "execute_result",
          "data": {
            "text/plain": [
              "['10-']"
            ]
          },
          "metadata": {},
          "execution_count": 24
        }
      ]
    },
    {
      "cell_type": "code",
      "source": [
        "# using positive look back to return part of the pattern \n",
        "pattern = r'(?<=\\d{2}-)\\d{4}'\n",
        "re.findall(pattern, string)"
      ],
      "metadata": {
        "colab": {
          "base_uri": "https://localhost:8080/"
        },
        "id": "dD8dG5TbpCYQ",
        "outputId": "93949b95-0c76-45b4-bca3-47a8a5fb36db"
      },
      "execution_count": 25,
      "outputs": [
        {
          "output_type": "execute_result",
          "data": {
            "text/plain": [
              "['3225']"
            ]
          },
          "metadata": {},
          "execution_count": 25
        }
      ]
    },
    {
      "cell_type": "code",
      "source": [
        "# using positive look back to return part of the pattern\n",
        "pattern = r'(?<=\\d{2}-\\d{4} ).*\\d{5}'\n",
        "re.findall(pattern, string)\n"
      ],
      "metadata": {
        "colab": {
          "base_uri": "https://localhost:8080/"
        },
        "id": "i2EPy_P7pPo_",
        "outputId": "cb5f36c7-209e-42eb-94a0-1cd8093d01ca"
      },
      "execution_count": 26,
      "outputs": [
        {
          "output_type": "execute_result",
          "data": {
            "text/plain": [
              "['2501 LAKEVIEW PARKWAY ROWLETT, TX 75089']"
            ]
          },
          "metadata": {},
          "execution_count": 26
        }
      ]
    },
    {
      "cell_type": "code",
      "source": [
        "# using postive look back and positive look ahead to return middle part of the pattern\n",
        "pattern = r'(?<=Fitness Center \\d{2}-\\d{4} ).*\\d{5}(?= s)'\n",
        "re.findall(pattern, string)"
      ],
      "metadata": {
        "colab": {
          "base_uri": "https://localhost:8080/"
        },
        "id": "M1S8NhcGqC1D",
        "outputId": "25c8542c-2e82-4cd1-90d0-4e82347c7ba5"
      },
      "execution_count": 31,
      "outputs": [
        {
          "output_type": "execute_result",
          "data": {
            "text/plain": [
              "['2501 LAKEVIEW PARKWAY ROWLETT, TX 75089']"
            ]
          },
          "metadata": {},
          "execution_count": 31
        }
      ]
    },
    {
      "cell_type": "code",
      "source": [],
      "metadata": {
        "id": "rmLlcAY3qzYj"
      },
      "execution_count": 27,
      "outputs": []
    }
  ]
}