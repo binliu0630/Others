{
 "cells": [
  {
   "cell_type": "markdown",
   "metadata": {},
   "source": [
    "## 1, How to look at the kernel of an existing jupyter notebook?"
   ]
  },
  {
   "cell_type": "code",
   "execution_count": 1,
   "metadata": {},
   "outputs": [
    {
     "data": {
      "application/javascript": [
       "var kernel = Jupyter.notebook.kernel\n",
       "kernel.execute('kernel_name = ' + '\"' + kernel.name + '\"')\n"
      ],
      "text/plain": [
       "<IPython.core.display.Javascript object>"
      ]
     },
     "metadata": {},
     "output_type": "display_data"
    }
   ],
   "source": [
    "%%javascript\n",
    "var kernel = Jupyter.notebook.kernel\n",
    "kernel.execute('kernel_name = ' + '\"' + kernel.name + '\"')"
   ]
  },
  {
   "cell_type": "code",
   "execution_count": 2,
   "metadata": {
    "scrolled": true
   },
   "outputs": [
    {
     "name": "stdout",
     "output_type": "stream",
     "text": [
      "python3\n"
     ]
    }
   ],
   "source": [
    "print(kernel_name)"
   ]
  },
  {
   "cell_type": "code",
   "execution_count": 3,
   "metadata": {},
   "outputs": [
    {
     "name": "stdout",
     "output_type": "stream",
     "text": [
      "/Users/Bliu/anaconda/share/jupyter/kernels/python3\n"
     ]
    }
   ],
   "source": [
    "from jupyter_client import kernelspec\n",
    "spec = kernelspec.get_kernel_spec(kernel_name)\n",
    "print(spec.resource_dir)"
   ]
  },
  {
   "cell_type": "markdown",
   "metadata": {},
   "source": [
    "## 2, Set up a virtual env "
   ]
  },
  {
   "cell_type": "code",
   "execution_count": 4,
   "metadata": {},
   "outputs": [
    {
     "name": "stdout",
     "output_type": "stream",
     "text": [
      "Collecting package metadata (current_repodata.json): done\n",
      "Solving environment: done\n",
      "\n",
      "## Package Plan ##\n",
      "\n",
      "  environment location: /Users/Bliu/anaconda/envs/myenv\n",
      "\n",
      "\n",
      "\n",
      "Preparing transaction: done\n",
      "Verifying transaction: done\n",
      "Executing transaction: done\n",
      "#\n",
      "# To activate this environment, use:\n",
      "# > conda activate myenv\n",
      "#\n",
      "# To deactivate an active environment, use:\n",
      "# > conda deactivate\n",
      "#\n",
      "\n"
     ]
    }
   ],
   "source": [
    "!conda create -n myenv --yes"
   ]
  },
  {
   "cell_type": "code",
   "execution_count": 5,
   "metadata": {},
   "outputs": [
    {
     "name": "stdout",
     "output_type": "stream",
     "text": [
      "# conda environments:\r\n",
      "#\r\n",
      "base                  *  /Users/Bliu/anaconda\r\n",
      "myenv                    /Users/Bliu/anaconda/envs/myenv\r\n",
      "\r\n"
     ]
    }
   ],
   "source": [
    "!conda env list"
   ]
  },
  {
   "cell_type": "code",
   "execution_count": 7,
   "metadata": {},
   "outputs": [
    {
     "name": "stdout",
     "output_type": "stream",
     "text": [
      "no change     /Users/Bliu/anaconda/condabin/conda\r\n",
      "no change     /Users/Bliu/anaconda/bin/conda\r\n",
      "no change     /Users/Bliu/anaconda/bin/conda-env\r\n",
      "no change     /Users/Bliu/anaconda/bin/activate\r\n",
      "no change     /Users/Bliu/anaconda/bin/deactivate\r\n",
      "no change     /Users/Bliu/anaconda/etc/profile.d/conda.sh\r\n",
      "no change     /Users/Bliu/anaconda/etc/fish/conf.d/conda.fish\r\n",
      "no change     /Users/Bliu/anaconda/shell/condabin/Conda.psm1\r\n",
      "no change     /Users/Bliu/anaconda/shell/condabin/conda-hook.ps1\r\n",
      "no change     /Users/Bliu/anaconda/lib/python3.7/site-packages/xontrib/conda.xsh\r\n",
      "no change     /Users/Bliu/anaconda/etc/profile.d/conda.csh\r\n",
      "no change     /Users/Bliu/.bash_profile\r\n",
      "No action taken.\r\n"
     ]
    }
   ],
   "source": [
    "!conda init bash"
   ]
  },
  {
   "cell_type": "code",
   "execution_count": 8,
   "metadata": {},
   "outputs": [
    {
     "name": "stdout",
     "output_type": "stream",
     "text": [
      "\r\n",
      "CommandNotFoundError: Your shell has not been properly configured to use 'conda activate'.\r\n",
      "To initialize your shell, run\r\n",
      "\r\n",
      "    $ conda init <SHELL_NAME>\r\n",
      "\r\n",
      "Currently supported shells are:\r\n",
      "  - bash\r\n",
      "  - fish\r\n",
      "  - tcsh\r\n",
      "  - xonsh\r\n",
      "  - zsh\r\n",
      "  - powershell\r\n",
      "\r\n",
      "See 'conda init --help' for more information and options.\r\n",
      "\r\n",
      "IMPORTANT: You may need to close and restart your shell after running 'conda init'.\r\n",
      "\r\n",
      "\r\n"
     ]
    }
   ],
   "source": [
    "!conda activate myenv"
   ]
  },
  {
   "cell_type": "code",
   "execution_count": 9,
   "metadata": {},
   "outputs": [
    {
     "name": "stdout",
     "output_type": "stream",
     "text": [
      "\r\n",
      "CommandNotFoundError: Your shell has not been properly configured to use 'conda deactivate'.\r\n",
      "To initialize your shell, run\r\n",
      "\r\n",
      "    $ conda init <SHELL_NAME>\r\n",
      "\r\n",
      "Currently supported shells are:\r\n",
      "  - bash\r\n",
      "  - fish\r\n",
      "  - tcsh\r\n",
      "  - xonsh\r\n",
      "  - zsh\r\n",
      "  - powershell\r\n",
      "\r\n",
      "See 'conda init --help' for more information and options.\r\n",
      "\r\n",
      "IMPORTANT: You may need to close and restart your shell after running 'conda init'.\r\n",
      "\r\n",
      "\r\n"
     ]
    }
   ],
   "source": [
    "!conda deactivate "
   ]
  },
  {
   "cell_type": "markdown",
   "metadata": {},
   "source": [
    "## 3, Add virtual Environment to Jupyter Notebook"
   ]
  },
  {
   "cell_type": "code",
   "execution_count": 10,
   "metadata": {},
   "outputs": [
    {
     "name": "stdout",
     "output_type": "stream",
     "text": [
      "Requirement already satisfied: ipykernel in /Users/Bliu/anaconda/lib/python3.7/site-packages (5.1.0)\n",
      "Requirement already satisfied: tornado>=4.2 in /Users/Bliu/anaconda/lib/python3.7/site-packages (from ipykernel) (5.1.1)\n",
      "Requirement already satisfied: jupyter-client in /Users/Bliu/anaconda/lib/python3.7/site-packages (from ipykernel) (5.2.4)\n",
      "Requirement already satisfied: traitlets>=4.1.0 in /Users/Bliu/anaconda/lib/python3.7/site-packages (from ipykernel) (4.3.2)\n",
      "Requirement already satisfied: ipython>=5.0.0 in /Users/Bliu/anaconda/lib/python3.7/site-packages (from ipykernel) (7.2.0)\n",
      "Requirement already satisfied: jupyter-core in /Users/Bliu/anaconda/lib/python3.7/site-packages (from jupyter-client->ipykernel) (4.4.0)\n",
      "Requirement already satisfied: pyzmq>=13 in /Users/Bliu/anaconda/lib/python3.7/site-packages (from jupyter-client->ipykernel) (17.1.2)\n",
      "Requirement already satisfied: python-dateutil>=2.1 in /Users/Bliu/anaconda/lib/python3.7/site-packages (from jupyter-client->ipykernel) (2.7.5)\n",
      "Requirement already satisfied: ipython-genutils in /Users/Bliu/anaconda/lib/python3.7/site-packages (from traitlets>=4.1.0->ipykernel) (0.2.0)\n",
      "Requirement already satisfied: decorator in /Users/Bliu/anaconda/lib/python3.7/site-packages (from traitlets>=4.1.0->ipykernel) (4.3.0)\n",
      "Requirement already satisfied: six in /Users/Bliu/anaconda/lib/python3.7/site-packages (from traitlets>=4.1.0->ipykernel) (1.12.0)\n",
      "Requirement already satisfied: backcall in /Users/Bliu/anaconda/lib/python3.7/site-packages (from ipython>=5.0.0->ipykernel) (0.1.0)\n",
      "Requirement already satisfied: setuptools>=18.5 in /Users/Bliu/anaconda/lib/python3.7/site-packages (from ipython>=5.0.0->ipykernel) (40.6.3)\n",
      "Requirement already satisfied: pygments in /Users/Bliu/anaconda/lib/python3.7/site-packages (from ipython>=5.0.0->ipykernel) (2.3.1)\n",
      "Requirement already satisfied: pexpect; sys_platform != \"win32\" in /Users/Bliu/anaconda/lib/python3.7/site-packages (from ipython>=5.0.0->ipykernel) (4.6.0)\n",
      "Requirement already satisfied: appnope; sys_platform == \"darwin\" in /Users/Bliu/anaconda/lib/python3.7/site-packages (from ipython>=5.0.0->ipykernel) (0.1.0)\n",
      "Requirement already satisfied: prompt-toolkit<2.1.0,>=2.0.0 in /Users/Bliu/anaconda/lib/python3.7/site-packages (from ipython>=5.0.0->ipykernel) (2.0.7)\n",
      "Requirement already satisfied: jedi>=0.10 in /Users/Bliu/anaconda/lib/python3.7/site-packages (from ipython>=5.0.0->ipykernel) (0.13.2)\n",
      "Requirement already satisfied: pickleshare in /Users/Bliu/anaconda/lib/python3.7/site-packages (from ipython>=5.0.0->ipykernel) (0.7.5)\n",
      "Requirement already satisfied: ptyprocess>=0.5 in /Users/Bliu/anaconda/lib/python3.7/site-packages (from pexpect; sys_platform != \"win32\"->ipython>=5.0.0->ipykernel) (0.6.0)\n",
      "Requirement already satisfied: wcwidth in /Users/Bliu/anaconda/lib/python3.7/site-packages (from prompt-toolkit<2.1.0,>=2.0.0->ipython>=5.0.0->ipykernel) (0.1.7)\n",
      "Requirement already satisfied: parso>=0.3.0 in /Users/Bliu/anaconda/lib/python3.7/site-packages (from jedi>=0.10->ipython>=5.0.0->ipykernel) (0.3.1)\n"
     ]
    }
   ],
   "source": [
    "!pip install --user ipykernel"
   ]
  },
  {
   "cell_type": "code",
   "execution_count": 11,
   "metadata": {},
   "outputs": [
    {
     "name": "stdout",
     "output_type": "stream",
     "text": [
      "Installed kernelspec myenv in /Users/Bliu/Library/Jupyter/kernels/myenv\r\n"
     ]
    }
   ],
   "source": [
    "!python -m ipykernel install --user --name=myenv"
   ]
  },
  {
   "cell_type": "code",
   "execution_count": 12,
   "metadata": {},
   "outputs": [
    {
     "name": "stdout",
     "output_type": "stream",
     "text": [
      "Available kernels:\r\n",
      "  myenv      /Users/Bliu/Library/Jupyter/kernels/myenv\r\n",
      "  python3    /Users/Bliu/anaconda/share/jupyter/kernels/python3\r\n"
     ]
    }
   ],
   "source": [
    "!jupyter kernelspec list"
   ]
  },
  {
   "cell_type": "code",
   "execution_count": null,
   "metadata": {},
   "outputs": [],
   "source": []
  }
 ],
 "metadata": {
  "kernelspec": {
   "display_name": "Python 3",
   "language": "python",
   "name": "python3"
  },
  "language_info": {
   "codemirror_mode": {
    "name": "ipython",
    "version": 3
   },
   "file_extension": ".py",
   "mimetype": "text/x-python",
   "name": "python",
   "nbconvert_exporter": "python",
   "pygments_lexer": "ipython3",
   "version": "3.7.2"
  }
 },
 "nbformat": 4,
 "nbformat_minor": 2
}
