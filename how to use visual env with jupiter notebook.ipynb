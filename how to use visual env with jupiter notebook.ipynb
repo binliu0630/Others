{
 "cells": [
  {
   "cell_type": "markdown",
   "metadata": {},
   "source": [
    "## 1, How to look at the kernel of an existing jupyter notebook?"
   ]
  },
  {
   "cell_type": "code",
   "execution_count": 1,
   "metadata": {},
   "outputs": [
    {
     "data": {
      "application/javascript": [
       "var kernel = Jupyter.notebook.kernel\n",
       "kernel.execute('kernel_name = ' + '\"' + kernel.name + '\"')\n"
      ],
      "text/plain": [
       "<IPython.core.display.Javascript object>"
      ]
     },
     "metadata": {},
     "output_type": "display_data"
    }
   ],
   "source": [
    "%%javascript\n",
    "var kernel = Jupyter.notebook.kernel\n",
    "kernel.execute('kernel_name = ' + '\"' + kernel.name + '\"')"
   ]
  },
  {
   "cell_type": "code",
   "execution_count": 2,
   "metadata": {},
   "outputs": [
    {
     "name": "stdout",
     "output_type": "stream",
     "text": [
      "python3\n"
     ]
    }
   ],
   "source": [
    "print(kernel_name)"
   ]
  },
  {
   "cell_type": "code",
   "execution_count": 3,
   "metadata": {},
   "outputs": [
    {
     "name": "stdout",
     "output_type": "stream",
     "text": [
      "/Users/Bliu/anaconda/share/jupyter/kernels/python3\n"
     ]
    }
   ],
   "source": [
    "from jupyter_client import kernelspec\n",
    "spec = kernelspec.get_kernel_spec(kernel_name)\n",
    "print(spec.resource_dir)"
   ]
  },
  {
   "cell_type": "markdown",
   "metadata": {},
   "source": [
    "## 2, Set up a virtual env "
   ]
  },
  {
   "cell_type": "code",
   "execution_count": 4,
   "metadata": {},
   "outputs": [
    {
     "name": "stdout",
     "output_type": "stream",
     "text": [
      "Collecting package metadata (current_repodata.json): done\n",
      "Solving environment: done\n",
      "\n",
      "## Package Plan ##\n",
      "\n",
      "  environment location: /Users/Bliu/anaconda/envs/myenv\n",
      "\n",
      "\n",
      "\n",
      "Preparing transaction: done\n",
      "Verifying transaction: done\n",
      "Executing transaction: done\n",
      "#\n",
      "# To activate this environment, use:\n",
      "# > conda activate myenv\n",
      "#\n",
      "# To deactivate an active environment, use:\n",
      "# > conda deactivate\n",
      "#\n",
      "\n"
     ]
    }
   ],
   "source": [
    "!conda create -n myenv --yes"
   ]
  },
  {
   "cell_type": "code",
   "execution_count": 5,
   "metadata": {},
   "outputs": [
    {
     "name": "stdout",
     "output_type": "stream",
     "text": [
      "# conda environments:\r\n",
      "#\r\n",
      "base                  *  /Users/Bliu/anaconda\r\n",
      "myenv                    /Users/Bliu/anaconda/envs/myenv\r\n",
      "\r\n"
     ]
    }
   ],
   "source": [
    "!conda env list"
   ]
  },
  {
   "cell_type": "code",
   "execution_count": 7,
   "metadata": {},
   "outputs": [
    {
     "name": "stdout",
     "output_type": "stream",
     "text": [
      "no change     /Users/Bliu/anaconda/condabin/conda\r\n",
      "no change     /Users/Bliu/anaconda/bin/conda\r\n",
      "no change     /Users/Bliu/anaconda/bin/conda-env\r\n",
      "no change     /Users/Bliu/anaconda/bin/activate\r\n",
      "no change     /Users/Bliu/anaconda/bin/deactivate\r\n",
      "no change     /Users/Bliu/anaconda/etc/profile.d/conda.sh\r\n",
      "no change     /Users/Bliu/anaconda/etc/fish/conf.d/conda.fish\r\n",
      "no change     /Users/Bliu/anaconda/shell/condabin/Conda.psm1\r\n",
      "no change     /Users/Bliu/anaconda/shell/condabin/conda-hook.ps1\r\n",
      "no change     /Users/Bliu/anaconda/lib/python3.7/site-packages/xontrib/conda.xsh\r\n",
      "no change     /Users/Bliu/anaconda/etc/profile.d/conda.csh\r\n",
      "no change     /Users/Bliu/.bash_profile\r\n",
      "No action taken.\r\n"
     ]
    }
   ],
   "source": [
    "!conda init bash"
   ]
  },
  {
   "cell_type": "code",
   "execution_count": 8,
   "metadata": {},
   "outputs": [
    {
     "name": "stdout",
     "output_type": "stream",
     "text": [
      "\r\n",
      "CommandNotFoundError: Your shell has not been properly configured to use 'conda activate'.\r\n",
      "To initialize your shell, run\r\n",
      "\r\n",
      "    $ conda init <SHELL_NAME>\r\n",
      "\r\n",
      "Currently supported shells are:\r\n",
      "  - bash\r\n",
      "  - fish\r\n",
      "  - tcsh\r\n",
      "  - xonsh\r\n",
      "  - zsh\r\n",
      "  - powershell\r\n",
      "\r\n",
      "See 'conda init --help' for more information and options.\r\n",
      "\r\n",
      "IMPORTANT: You may need to close and restart your shell after running 'conda init'.\r\n",
      "\r\n",
      "\r\n"
     ]
    }
   ],
   "source": [
    "!conda activate myenv"
   ]
  },
  {
   "cell_type": "code",
   "execution_count": 9,
   "metadata": {},
   "outputs": [
    {
     "name": "stdout",
     "output_type": "stream",
     "text": [
      "\r\n",
      "CommandNotFoundError: Your shell has not been properly configured to use 'conda deactivate'.\r\n",
      "To initialize your shell, run\r\n",
      "\r\n",
      "    $ conda init <SHELL_NAME>\r\n",
      "\r\n",
      "Currently supported shells are:\r\n",
      "  - bash\r\n",
      "  - fish\r\n",
      "  - tcsh\r\n",
      "  - xonsh\r\n",
      "  - zsh\r\n",
      "  - powershell\r\n",
      "\r\n",
      "See 'conda init --help' for more information and options.\r\n",
      "\r\n",
      "IMPORTANT: You may need to close and restart your shell after running 'conda init'.\r\n",
      "\r\n",
      "\r\n"
     ]
    }
   ],
   "source": [
    "!conda deactivate "
   ]
  },
  {
   "cell_type": "code",
   "execution_count": null,
   "metadata": {},
   "outputs": [],
   "source": []
  }
 ],
 "metadata": {
  "kernelspec": {
   "display_name": "Python 3",
   "language": "python",
   "name": "python3"
  },
  "language_info": {
   "codemirror_mode": {
    "name": "ipython",
    "version": 3
   },
   "file_extension": ".py",
   "mimetype": "text/x-python",
   "name": "python",
   "nbconvert_exporter": "python",
   "pygments_lexer": "ipython3",
   "version": "3.7.2"
  }
 },
 "nbformat": 4,
 "nbformat_minor": 2
}
