{
  "nbformat": 4,
  "nbformat_minor": 0,
  "metadata": {
    "colab": {
      "name": "Interview.ipynb",
      "provenance": [],
      "authorship_tag": "ABX9TyMfghBFcXENLBCwqgskseWB",
      "include_colab_link": true
    },
    "kernelspec": {
      "name": "python3",
      "display_name": "Python 3"
    },
    "language_info": {
      "name": "python"
    }
  },
  "cells": [
    {
      "cell_type": "markdown",
      "metadata": {
        "id": "view-in-github",
        "colab_type": "text"
      },
      "source": [
        "<a href=\"https://colab.research.google.com/github/binliu0630/Others/blob/master/Interview.ipynb\" target=\"_parent\"><img src=\"https://colab.research.google.com/assets/colab-badge.svg\" alt=\"Open In Colab\"/></a>"
      ]
    },
    {
      "cell_type": "markdown",
      "source": [
        "META DATA ENGINEER - GLASSDOOR"
      ],
      "metadata": {
        "id": "5MbqsEjKdFlk"
      }
    },
    {
      "cell_type": "code",
      "execution_count": 2,
      "metadata": {
        "colab": {
          "base_uri": "https://localhost:8080/"
        },
        "id": "EjcF_xgddCeU",
        "outputId": "8023b9b6-172e-4bba-96b9-53d293c59a00"
      },
      "outputs": [
        {
          "output_type": "execute_result",
          "data": {
            "text/plain": [
              "2"
            ]
          },
          "metadata": {},
          "execution_count": 2
        }
      ],
      "source": [
        "# Write a function to return the number of times a character appears in a string. The character can be the empty string.\n",
        "\n",
        "def charCount(string:str, char:str = 'c'):\n",
        "  \"\"\" count the number of time a char appears in a string.\n",
        "      Args: \n",
        "        string (str, required): the string contains the character.\n",
        "        char (str, required): a character to count.\n",
        "  \"\"\"\n",
        "  if len(string) == 0:\n",
        "    return 0\n",
        "  else:\n",
        "    count = 0\n",
        "    for c in string:\n",
        "      if c == char:\n",
        "        count += 1\n",
        "    return count\n",
        "\n",
        "# test\n",
        "charCount('metaa', 'a')\n"
      ]
    },
    {
      "cell_type": "code",
      "source": [
        "# Write a function to return the number of times each character appears in a string.\n",
        "def charCount(string:str):\n",
        "  \"\"\" count each character in a string.\n",
        "      Args:\n",
        "        string (str, required): \n",
        "  \"\"\"\n",
        "  count = {}\n",
        "  for c in string:\n",
        "    if c in count:\n",
        "      count[c] += 1\n",
        "    else:\n",
        "      count[c] = 1\n",
        "  return count\n",
        "\n",
        "# test\n",
        "charCount('metaa')"
      ],
      "metadata": {
        "colab": {
          "base_uri": "https://localhost:8080/"
        },
        "id": "NzPV44W6fwh8",
        "outputId": "d9688774-b486-40ab-9cb4-e8c227624373"
      },
      "execution_count": 4,
      "outputs": [
        {
          "output_type": "execute_result",
          "data": {
            "text/plain": [
              "{'a': 2, 'e': 1, 'm': 1, 't': 1}"
            ]
          },
          "metadata": {},
          "execution_count": 4
        }
      ]
    },
    {
      "cell_type": "code",
      "source": [
        "# Complete a function that returns a list containing mismatched words in two strings. The return list can be in any order. \n",
        "# I used set to solve this question, but was also asked to verbally explain how I would solve it without using sets.\n",
        "\n",
        "def mismatchWords(string1:str, string2:str):\n",
        "    \"\"\" mismatchedWords from two strings\n",
        "        Args:\n",
        "        string1 (str, required):\n",
        "        string2 (str, required):\n",
        "    \"\"\"\n",
        "    countDict1 = {}\n",
        "    for w in string1.split(' '):\n",
        "      countDict1[w] = countDict1.get(w,0) + 1\n",
        "    countDict2 = {}\n",
        "    for w in string2.split(' '):\n",
        "      countDict2[w] = countDict2.get(w, 0) + 1\n",
        "    \n",
        "    return [w for w in countDict1 if w not in countDict2] + [w for w in countDict2 if w not in countDict1]\n",
        "\n",
        "# test\n",
        "mismatchWords('hello world hello', 'world i am coming')\n"
      ],
      "metadata": {
        "colab": {
          "base_uri": "https://localhost:8080/"
        },
        "id": "5pis55Dvg2Ql",
        "outputId": "e6a54175-9c0a-4268-fcfa-62e4df0c447d"
      },
      "execution_count": 6,
      "outputs": [
        {
          "output_type": "execute_result",
          "data": {
            "text/plain": [
              "['hello', 'i', 'am', 'coming']"
            ]
          },
          "metadata": {},
          "execution_count": 6
        }
      ]
    },
    {
      "cell_type": "code",
      "source": [
        "def mismatchWords(string1:str, string2:str):\n",
        "  \"\"\"mismatched words from two strins\n",
        "    Args:\n",
        "    string1 (str, required):\n",
        "    string2 (str, required):\n",
        "  \"\"\"\n",
        "  list1 = string1.split(' ')\n",
        "  list2 = string2.split(' ')\n",
        "\n",
        "  # uncommon = []\n",
        "  # for w in list1:\n",
        "  #   if w not in list2:\n",
        "  #     uncommon.append(w)\n",
        "  # for w in list2:\n",
        "  #   if w not in list1:\n",
        "  #     uncommon.append(w)\n",
        "  uncommon = [w for w in list1 if w not in list2]\n",
        "  uncommon.extend([w for w in list2 if w not in list1])\n",
        "  return list(set(uncommon))\n",
        "# test\n",
        "mismatchWords('hello world hello', 'world i am coming')\n",
        "\n",
        "  "
      ],
      "metadata": {
        "colab": {
          "base_uri": "https://localhost:8080/"
        },
        "id": "PSLtF8y5behQ",
        "outputId": "93099a91-0457-4d0f-bedd-59d991061f93"
      },
      "execution_count": 10,
      "outputs": [
        {
          "output_type": "execute_result",
          "data": {
            "text/plain": [
              "['hello', 'am', 'i', 'coming']"
            ]
          },
          "metadata": {},
          "execution_count": 10
        }
      ]
    },
    {
      "cell_type": "code",
      "source": [
        ""
      ],
      "metadata": {
        "id": "ksnUd67QbyUr"
      },
      "execution_count": null,
      "outputs": []
    },
    {
      "cell_type": "code",
      "source": [
        "# Given an array containing None values, fill in the array with the most recent None value. \n",
        "# If the list starts with None, then don't do anything to it.\n",
        "# The test case will have string instead of list. the first value of list will be null, there will be empty list. \n",
        "# So your code has to handle all of these test cases.\n",
        "\n",
        "def fillNa(arr:list):\n",
        "  \"\"\"fill None with most recent value\n",
        "  arr (list, required):\n",
        "  \"\"\"\n",
        "  for i in range(len(arr)):\n",
        "    if i>0 and arr[i] is None:\n",
        "      arr[i] = arr[i-1]\n",
        "  return arr\n",
        "\n",
        "# test\n",
        "fillNa('None')\n"
      ],
      "metadata": {
        "colab": {
          "base_uri": "https://localhost:8080/",
          "height": 35
        },
        "id": "MKbfwV8if49M",
        "outputId": "2ec7c46b-88c3-4f9f-fc1c-604a0649f350"
      },
      "execution_count": 13,
      "outputs": [
        {
          "output_type": "execute_result",
          "data": {
            "application/vnd.google.colaboratory.intrinsic+json": {
              "type": "string"
            },
            "text/plain": [
              "'None'"
            ]
          },
          "metadata": {},
          "execution_count": 13
        }
      ]
    },
    {
      "cell_type": "code",
      "source": [
        "# Given a dictionary, print the key for nth highest value present in the dict. If there are more than 1 record present for nth highest value then sort\n",
        "# the key and print the first one (alphabetically). N can be higher than the number of elements in the dictionary.\n",
        "\n",
        "def nthHigh(dic: dict, n:int):\n",
        "  \"\"\" The nth higest value in the dic\n",
        "      Args:\n",
        "        dic (dict, required):\n",
        "        n (int, required):\n",
        "  \"\"\"\n",
        "  values = list(sorted(set(dic.values()), reverse=True))\n",
        "  print(values)\n",
        "  nthKeys = [ k for k, v in dic.items() if v == values[n-1]]\n",
        "  return min(nthKeys)\n",
        "\n",
        "# test\n",
        "nthHigh({'a':5, 'f':3,'d':3 ,'c':1}, 2)\n",
        "\n",
        "\n",
        "\n"
      ],
      "metadata": {
        "colab": {
          "base_uri": "https://localhost:8080/",
          "height": 53
        },
        "id": "U3P31pzFj8cO",
        "outputId": "2164e5e2-e9f8-41ad-f134-481934c7fad1"
      },
      "execution_count": 14,
      "outputs": [
        {
          "output_type": "stream",
          "name": "stdout",
          "text": [
            "[5, 3, 1]\n"
          ]
        },
        {
          "output_type": "execute_result",
          "data": {
            "application/vnd.google.colaboratory.intrinsic+json": {
              "type": "string"
            },
            "text/plain": [
              "'d'"
            ]
          },
          "metadata": {},
          "execution_count": 14
        }
      ]
    },
    {
      "cell_type": "code",
      "source": [
        "# Given a list of ints, balance the list so that each int appears equally in the list. \n",
        "# Return a dictionary where the key is the int and the value is the count needed to balance the list.\n",
        "\n",
        "def balanceList(ls:list):\n",
        "  \"\"\"value and count balance of a list\n",
        "    Args:\n",
        "    ls (list, required):\n",
        "    \n",
        "  \"\"\"\n",
        "  hashMap = {}\n",
        "  for i in ls:\n",
        "    hashMap[i] = hashMap.get(i, 0) + 1\n",
        "  new_hashMap = {}\n",
        "  for k, v in hashMap.items():\n",
        "    if max(hashMap.values()) - v >0:\n",
        "      new_hashMap[k] = max(hashMap.values()) - v\n",
        "  return new_hashMap\n",
        "\n",
        "# test\n",
        "balanceList([1, 1, 1, 5, 3, 2, 2])"
      ],
      "metadata": {
        "colab": {
          "base_uri": "https://localhost:8080/"
        },
        "id": "DG2JdzCRwfIN",
        "outputId": "763a8dcb-627e-4297-e413-5777395d86d4"
      },
      "execution_count": 23,
      "outputs": [
        {
          "output_type": "execute_result",
          "data": {
            "text/plain": [
              "{2: 1, 3: 2, 5: 2}"
            ]
          },
          "metadata": {},
          "execution_count": 23
        }
      ]
    },
    {
      "cell_type": "code",
      "source": [
        "# Given a list of ints, balance the list so that each int appears equally in the list. \n",
        "# Return a dictionary where the key is the int and the value is the count needed to balance the list.\n",
        "\n",
        "def balanceList(ls:list):\n",
        "  \"\"\"value and count balance of a list\n",
        "    Args:\n",
        "    ls (list, required):\n",
        "    \n",
        "  \"\"\"\n",
        "  import collections\n",
        "  hashMap = collections.Counter(ls)\n",
        "  return {k: max(hashMap.values())- v for k, v in hashMap.items() if max(hashMap.values())- v > 0}\n",
        "\n",
        "# test\n",
        "balanceList([1, 1, 1, 5, 3, 2, 2])"
      ],
      "metadata": {
        "colab": {
          "base_uri": "https://localhost:8080/"
        },
        "id": "WQmamFnS07yr",
        "outputId": "a3242eca-4362-4457-c787-0069bb0c79ea"
      },
      "execution_count": 28,
      "outputs": [
        {
          "output_type": "execute_result",
          "data": {
            "text/plain": [
              "{2: 1, 3: 2, 5: 2}"
            ]
          },
          "metadata": {},
          "execution_count": 28
        }
      ]
    },
    {
      "cell_type": "code",
      "source": [
        "#Write a function to count the number of times each character appears in a string and rewrite the string in that format. \n",
        "# Eg. \"I am back.\" should become \"i1 2a2m1b1c1k1.1\"\n",
        "\n",
        "def rewriteString(string:str):\n",
        "  \"\"\" rewrite the string by each character and its count\n",
        "      Args:\n",
        "        string (str, required):\n",
        "  \"\"\"\n",
        "  hashMap = {}\n",
        "  for i in string:\n",
        "    hashMap[i.lower()] = hashMap.get(i.lower(), 0) + 1\n",
        "  str_list= []\n",
        "  for k, v in hashMap.items():\n",
        "    str_list.extend([k,str(v)])\n",
        "  return ''.join(str_list)\n",
        "\n",
        "# test\n",
        "rewriteString(\"I am back.\")"
      ],
      "metadata": {
        "colab": {
          "base_uri": "https://localhost:8080/",
          "height": 35
        },
        "id": "PbW3AJeb2jlN",
        "outputId": "de9d29e7-3342-4ae0-af09-72e15c1a2e31"
      },
      "execution_count": 38,
      "outputs": [
        {
          "output_type": "execute_result",
          "data": {
            "application/vnd.google.colaboratory.intrinsic+json": {
              "type": "string"
            },
            "text/plain": [
              "'i1 2a2m1b1c1k1.1'"
            ]
          },
          "metadata": {},
          "execution_count": 38
        }
      ]
    },
    {
      "cell_type": "code",
      "source": [
        "# Match all words in a document against an name dictionary and anonymize them using a hash."
      ],
      "metadata": {
        "colab": {
          "base_uri": "https://localhost:8080/",
          "height": 35
        },
        "id": "vThign6NnOFi",
        "outputId": "7e2133a0-a4fb-4d54-8d97-c2763628ceba"
      },
      "execution_count": 36,
      "outputs": [
        {
          "output_type": "execute_result",
          "data": {
            "application/vnd.google.colaboratory.intrinsic+json": {
              "type": "string"
            },
            "text/plain": [
              "'i'"
            ]
          },
          "metadata": {},
          "execution_count": 36
        }
      ]
    },
    {
      "cell_type": "code",
      "source": [
        "\n",
        "# Balance the string., i.e., How many additional literals needed to evenly balance the string.\n",
        "# String is made of a-j and 0-9 where alphabets marks the opening and numbers as closing.\n",
        "# For e.g., ab00a. This is unbalanced since it requires pair of b with 1, \n",
        "# and additional 0 occurs before “a” ie., missing opening pair and later “a” without its closing number pair.. Result : 3\n",
        "# E.g., bj19 is balanced so result 0.\n"
      ],
      "metadata": {
        "id": "DDpIf0U86Luj"
      },
      "execution_count": null,
      "outputs": []
    },
    {
      "cell_type": "code",
      "source": [
        "# flatten a list: [1,2,[3,4. [5],[6,7,[8,[9]]]]]\n",
        "def flattenList(ls:list, res = []):\n",
        "  \"\"\"flatten a list\n",
        "    Args:\n",
        "    ls (list, required):\n",
        "  \"\"\"\n",
        "\n",
        "  for i in ls:\n",
        "    if isinstance(i, list):\n",
        "      flattenList(i, res)\n",
        "    else:\n",
        "      res.append(i)\n",
        "  return res\n",
        "\n",
        "# test\n",
        "flattenList([1, 2, [3, [4, [5]]]])\n"
      ],
      "metadata": {
        "colab": {
          "base_uri": "https://localhost:8080/"
        },
        "id": "4W1dWUkLBDF3",
        "outputId": "6e5a7078-80d5-4d46-b0fa-516fd9135692"
      },
      "execution_count": 42,
      "outputs": [
        {
          "output_type": "execute_result",
          "data": {
            "text/plain": [
              "[1, 2, 3, 4, 5]"
            ]
          },
          "metadata": {},
          "execution_count": 42
        }
      ]
    },
    {
      "cell_type": "code",
      "source": [
        "# remove duplicates from a list\n",
        "\n",
        "def removeDuplicates(ls:list):\n",
        "  \"\"\" remove duplicates in a list\n",
        "    Args:\n",
        "    ls (list, required):\n",
        "  \n",
        "  \"\"\"\n",
        "  import collections\n",
        "  count = collections.Counter(ls)\n",
        "  return list(count.keys())\n",
        "\n",
        "# test\n",
        "removeDuplicates([1, 1, 1, 2, 3])"
      ],
      "metadata": {
        "colab": {
          "base_uri": "https://localhost:8080/"
        },
        "id": "NF6MaK1VBEzh",
        "outputId": "04a3ea5a-a9cc-42d9-91ef-21fa6456e3bd"
      },
      "execution_count": 46,
      "outputs": [
        {
          "output_type": "execute_result",
          "data": {
            "text/plain": [
              "[1, 2, 3]"
            ]
          },
          "metadata": {},
          "execution_count": 46
        }
      ]
    },
    {
      "cell_type": "code",
      "source": [
        "# count words in a sentence"
      ],
      "metadata": {
        "id": "10kRLCYlBFjn"
      },
      "execution_count": null,
      "outputs": []
    },
    {
      "cell_type": "code",
      "source": [
        "# create a histogram from a given list\n",
        "def my_histogram(ip_list):\n",
        "  for i in ip_list:\n",
        "    print(i*'*')\n",
        "\n",
        "ip_list = [2, 3, 4, 5]\n",
        "my_histogram(ip_list)\n",
        "\n"
      ],
      "metadata": {
        "colab": {
          "base_uri": "https://localhost:8080/"
        },
        "id": "VX1OKiyz87Vw",
        "outputId": "93df50b1-5fea-4bca-fcfa-eed4c3cb30c2"
      },
      "execution_count": 39,
      "outputs": [
        {
          "output_type": "stream",
          "name": "stdout",
          "text": [
            "**\n",
            "***\n",
            "****\n",
            "*****\n"
          ]
        }
      ]
    },
    {
      "cell_type": "code",
      "source": [
        "# Python - Basic questions like calculating average, traversing and sorting lists and dictionaries would be enough.\n",
        "# Python (1) Count \"char\" in the string. (2) Replace \"None\" in an array. Codes are simple but passing edge cases are difficult.\n",
        "# The code you write can easily solve the problem question, it takes 6 to 8 mins to type out the code. but there will be 5 test cases. the code will not handle all the 5 test cases. only if all the 5 test cases pass the next question will be given."
      ],
      "metadata": {
        "id": "7wcW8gdUDf9F"
      },
      "execution_count": null,
      "outputs": []
    },
    {
      "cell_type": "markdown",
      "source": [
        "want you to write me a simple spell checking engine.\n",
        "\n",
        "The query language is a very simple regular expression-like language, with one special character: . (the dot character), which means EXACTLY ONE character (it can be any character). So, for example, 'c.t' would match 'cat' as the dot matches any character. There may be any number of dot characters in the query (or none).\n",
        "\n",
        "Your spell checker will have to be optimized for speed, so you will have to write it in the required way. There would be a one-time setUp() function that does any pre-processing you require, and then there will be an isMatch() function that should run as fast as possible, utilizing that pre-processing.\n",
        "\n",
        "There are some examples below, feel free to ask for clarification.\n",
        "\n",
        "Word List:\n",
        "\n",
        "[cat, bat, rat, drat, dart, drab]\n",
        "\n",
        "Queries:\n",
        "\n",
        "cat -> true\n",
        "c.t -> true\n",
        ".at -> true\n",
        "..t -> true\n",
        "d..t -> true\n",
        "dr.. -> true\n",
        "... -> true\n",
        ".... -> true\n",
        "\n",
        "..... -> false\n",
        "h.t -> false\n",
        "c. -> false\n",
        "*/"
      ],
      "metadata": {
        "id": "GU48wgzSHjaq"
      }
    },
    {
      "cell_type": "code",
      "source": [
        ""
      ],
      "metadata": {
        "id": "b3RbSPSyINRG"
      },
      "execution_count": null,
      "outputs": []
    },
    {
      "cell_type": "markdown",
      "source": [
        "Given an array of integers, we would like to determine whether the array is monotonic (non-decreasing/non-increasing) or not.\n",
        "Examples:\n",
        "// 1 2 5 5 8\n",
        "// true\n",
        "// 9 4 4 2 2\n",
        "// true\n",
        "// 1 4 6 3\n",
        "// false\n",
        "\n",
        "//1 1 1 1 1 1\n",
        "// true"
      ],
      "metadata": {
        "id": "oSoAyAy-IPlD"
      }
    },
    {
      "cell_type": "code",
      "source": [
        ""
      ],
      "metadata": {
        "id": "K6Jmmn7cIWUG"
      },
      "execution_count": null,
      "outputs": []
    },
    {
      "cell_type": "markdown",
      "source": [
        "Calculate the average word length.\n",
        "For the given set of words return the average word length."
      ],
      "metadata": {
        "id": "DXew-1VjIWt8"
      }
    },
    {
      "cell_type": "markdown",
      "source": [
        "\n"
      ],
      "metadata": {
        "id": "IvfCkFCMfwGC"
      }
    },
    {
      "cell_type": "code",
      "source": [
        "#python:1. find 's' in mississippi 2. uncommon words 3. replace none with next element in the list.\n",
        "\n",
        "# string = 'mississippi'\n",
        "\n",
        "# x=0\n",
        "# for i in range(len(string)):\n",
        "# if string[i] == 's':\n",
        "# x += 1\n",
        "# print(x)"
      ],
      "metadata": {
        "id": "4JNXDGMFynTp"
      },
      "execution_count": null,
      "outputs": []
    },
    {
      "cell_type": "code",
      "source": [
        "#the python was questions with replace None with previous value , write an Histogram\n",
        "# Python coding: count the same letters in a single word\n",
        "# name='Havannah'\n",
        "# name_cnt = {}\n",
        "# for i in name.lower():\n",
        "# name_cnt[i] = name_cnt.get(i, 0)+1\n",
        "# print(name_cnt)"
      ],
      "metadata": {
        "id": "lgsqr7qXzkZu"
      },
      "execution_count": null,
      "outputs": []
    },
    {
      "cell_type": "code",
      "source": [
        "# Python: 1. count occurrence of a word ,\n",
        "# 2. Uncommon words from two sentences\n",
        "# 3. Replace None with previous value"
      ],
      "metadata": {
        "id": "5Ph76rdb1Alo"
      },
      "execution_count": null,
      "outputs": []
    },
    {
      "cell_type": "code",
      "source": [
        "#Merge sort, binary search, case study"
      ],
      "metadata": {
        "id": "-e8_9sEV1aFf"
      },
      "execution_count": null,
      "outputs": []
    },
    {
      "cell_type": "code",
      "source": [
        "# Python ==> solved only 3 questions.\n",
        "# find giving letter in a string\n",
        "# Replace None with previous element from List, there was some challenges\n",
        "# [None]\n",
        "# [None,1,2] ==> [None,1,2]\n",
        "# [1,None,2] ==> [1,2,2]\n",
        "# [1,4,None,None,3]===> [1,4,4,4,3]\n",
        "# Forgot one question\n"
      ],
      "metadata": {
        "id": "kBwPIKOs1zrR"
      },
      "execution_count": null,
      "outputs": []
    },
    {
      "cell_type": "code",
      "source": [
        "# Python 1\n",
        "\n",
        "# #1.returns the number of times a given character occurs in the given string\n",
        "# s1='missisipi'\n",
        "# #print(s1.find('s'))\n",
        "# res=[]\n",
        "\n",
        "# for i in range(len(s1)):\n",
        "# #print(s1[i])\n",
        "# if s1[i]=='s':\n",
        "# res.append('s')\n",
        "# print(len(res))\n",
        "# #2.[1,None,1,2,None} --> [1,1,1,2,2]\n",
        "# arr=[None,1,2,None]\n",
        "# new_l=[]\n",
        "# for i in range(0,len(arr)):\n",
        "\n",
        "# if arr[i] != None:\n",
        "# new_l.append(arr[i])\n",
        "# else:\n",
        "# new_l.append(arr[i-1])\n",
        "\n",
        "# print(new_l)\n",
        "\n",
        "\n",
        "# #2. (python) Given two sentences, construct an array that has the words that appear in one sentence and not the other.\n",
        "# A = \"Geeks for Geeks\"\n",
        "# B = \"Learning from Geeks for Geeks\"\n",
        "# d={}\n",
        "# for w in A.split():\n",
        "# if w in d:\n",
        "# d[w]=d.get(w,0)+1\n",
        "# else:\n",
        "# d[w]=1\n",
        "# for w in B.split():\n",
        "# if w in d:\n",
        "# d[w]=d.get(w,0)+1\n",
        "# else:\n",
        "# d[w]=1\n",
        "# unmatchedW=[w for w in d if d[w]==1]\n",
        "# print (unmatchedW)\n",
        "\n",
        "\n",
        "# 3.\n",
        "\n",
        "# d = {\"a\": 4, \"c\": 3, \"b\": 12}\n",
        "# [(k, v) for k, v in sorted(d.items(), key=lambda x: x[1], reverse=True)]\n",
        "# #[('b', 12), ('a', 4), ('c', 3)]\n"
      ],
      "metadata": {
        "id": "_y3KoZkU2vMI"
      },
      "execution_count": null,
      "outputs": []
    },
    {
      "cell_type": "code",
      "source": [
        "# Python:-\n",
        "# 1. [1,None,1,2,None} --> [1,1,1,2,2] Ensure you take care of case input[None] which means None object.\n",
        "# 2. find s in missisipi.\n",
        "# 3. Complete a function that returns a list containing all the mismatched words (case sensitive) between two given input strings # For example: # - string 1 : \"Firstly this is the first string\" # - string 2 : \"Next is the second string\" # # - output : ['Firstly', 'this', 'first', 'Next', 'second']"
      ],
      "metadata": {
        "id": "1QOlVSP26UCY"
      },
      "execution_count": null,
      "outputs": []
    },
    {
      "cell_type": "code",
      "source": [
        "# # python question: given a two dimensional list for example [ [2,3],[3,4],[5]] person 2 is friends with 3 etc. find how many friends does each person has. note one person has no friends.\n",
        "\n",
        "# def find_friends(lst):\n",
        "# dct = {}\n",
        "# for i in range(len(lst)):\n",
        "# element = lst[i][0]\n",
        "# if len(lst[i]) != 1:\n",
        "# dct[element] = dct.get(element,0) + 1\n",
        "# else:\n",
        "# dct[element] = 0\n",
        "# return dct"
      ],
      "metadata": {
        "id": "uwktIuUk6_5E"
      },
      "execution_count": null,
      "outputs": []
    },
    {
      "cell_type": "code",
      "source": [
        "# Question 1:\n",
        "# # Complete a function that returns the number of times a given character occurs in the given string\n",
        "\n",
        "# # For example:\n",
        "# # - input string = \"mississippi\"\n",
        "# # - char = \"s\"\n",
        "# #\n",
        "# # - output : 4\n",
        "# \"\"\"\n",
        "# def count_char(word, char):\n",
        "# count = 0\n",
        "# for letter in word:\n",
        "# if letter.lower() == char.lower():\n",
        "# count += 1\n",
        "# return count"
      ],
      "metadata": {
        "id": "TZktqn9b9vHP"
      },
      "execution_count": null,
      "outputs": []
    },
    {
      "cell_type": "code",
      "source": [
        "\"\"\"\n",
        "# Question 2:\n",
        "# Fill in the blanks\n",
        "#\n",
        "# Given an array containing None values fill in the None values\n",
        "# with most recent non None value in the array\n",
        "\n",
        "#\n",
        "# For example:\n",
        "# - input array: [1,None,2,3,None,None,5,None]\n",
        "#\n",
        "# - output array: [1,1,2,3,3,3,5,5]\n",
        "#\n",
        "\n",
        "\n",
        "def fill_most_recent_non_none_value(input):\n",
        "recent_non_none_value = None\n",
        "for i in range(len(input)):\n",
        "if input[i]:\n",
        "recent_non_none_value = input[i]\n",
        "else:\n",
        "input[i] = recent_non_none_value\n",
        "return input"
      ],
      "metadata": {
        "id": "moSYrVFW-LaO"
      },
      "execution_count": null,
      "outputs": []
    },
    {
      "cell_type": "code",
      "source": [
        "# Question 3:\n",
        "# Complete a function that returns a list containing all the mismatched words (case sensitive) between two given input strings\n",
        "\n",
        "# For example:\n",
        "# - string 1 : \"Firstly this is the first string\"\n",
        "# - string 2 : \"Next is the second string\"\n",
        "#\n",
        "# - output : ['Firstly', 'this', 'first', 'Next', 'second']"
      ],
      "metadata": {
        "id": "h3KzO_C4-0sK"
      },
      "execution_count": null,
      "outputs": []
    },
    {
      "cell_type": "code",
      "source": [
        "# Python : fill in the blank(edge case of input list : None , []) ,find count of letter in a string , uncommon words between 2 strings."
      ],
      "metadata": {
        "id": "ghD9feE0_WNv"
      },
      "execution_count": null,
      "outputs": []
    },
    {
      "cell_type": "code",
      "source": [
        "# [1,None,1,2,None} --> [1,1,1,2,2]\n",
        "# Ensure you take care of case input[None] which means None object.\n",
        "\n",
        "# find s in missisipi."
      ],
      "metadata": {
        "id": "p3XEbY2mAHR4"
      },
      "execution_count": null,
      "outputs": []
    },
    {
      "cell_type": "code",
      "source": [
        "\n",
        "# Count number of possible substrings in a given string"
      ],
      "metadata": {
        "id": "3RZiefmwZpRY"
      },
      "execution_count": null,
      "outputs": []
    },
    {
      "cell_type": "code",
      "source": [
        "# Python - Around \"Medium\" on Leetcode. Mostly around data structures.\n",
        "\n"
      ],
      "metadata": {
        "id": "Gve8rmotTZZA"
      },
      "execution_count": null,
      "outputs": []
    },
    {
      "cell_type": "code",
      "source": [
        "# python :average length of words."
      ],
      "metadata": {
        "id": "qristKdaUhNT"
      },
      "execution_count": null,
      "outputs": []
    },
    {
      "cell_type": "code",
      "source": [
        "# Coding(Java):\n",
        "# 1. find avg word length in a sentence\n",
        "# 2. ip address validation\n",
        "# 3. Friends problem [[A,B], [B,D],[E]...] ( List of lists);"
      ],
      "metadata": {
        "id": "8q21PLRqVvkU"
      },
      "execution_count": null,
      "outputs": []
    },
    {
      "cell_type": "code",
      "source": [
        "# Scala:\n",
        "# Write a program to find avg_word_length with test cases?\n",
        "# Write a program to validate ip address with test cases ?"
      ],
      "metadata": {
        "id": "ma0J-gm8W9Cx"
      },
      "execution_count": null,
      "outputs": []
    }
  ]
}