{
  "nbformat": 4,
  "nbformat_minor": 0,
  "metadata": {
    "colab": {
      "provenance": [],
      "authorship_tag": "ABX9TyMh8thbgP6VxhgltPQueo6w",
      "include_colab_link": true
    },
    "kernelspec": {
      "name": "python3",
      "display_name": "Python 3"
    },
    "language_info": {
      "name": "python"
    }
  },
  "cells": [
    {
      "cell_type": "markdown",
      "metadata": {
        "id": "view-in-github",
        "colab_type": "text"
      },
      "source": [
        "<a href=\"https://colab.research.google.com/github/binliu0630/Others/blob/master/Rest_APi.ipynb\" target=\"_parent\"><img src=\"https://colab.research.google.com/assets/colab-badge.svg\" alt=\"Open In Colab\"/></a>"
      ]
    },
    {
      "cell_type": "code",
      "execution_count": null,
      "metadata": {
        "id": "IPq3a9NFvh-T"
      },
      "outputs": [],
      "source": [
        "%%time\n",
        "import requests\n",
        "import json\n",
        "\n",
        "payload = {\"data\": {\"ndarray\": \n",
        "                    [str(custom_contact), str(custom_contact2), str(custom_contact3), str(custom_contact4)]}}\n",
        "\n",
        "url = 'https://ml-gcp.prod.something.com:327/maas-4104-1733/api/v1.0/predictions'\n",
        "\n",
        "headers = {\n",
        "  'X-Auth-Token': 'bf55ad21d4359b8e21f3d38e88c3593443e',\n",
        "  'Content-Type': 'application/json'\n",
        "}\n",
        "\n",
        "response = requests.post(url, headers=headers, json=payload)\n",
        "response.json()"
      ]
    }
  ]
}