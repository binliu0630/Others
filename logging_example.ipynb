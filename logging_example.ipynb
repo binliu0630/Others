{
  "nbformat": 4,
  "nbformat_minor": 0,
  "metadata": {
    "colab": {
      "name": "logging_example.ipynb",
      "provenance": [],
      "collapsed_sections": [],
      "authorship_tag": "ABX9TyNVtKJdq/6d1+hDn9edUDDw",
      "include_colab_link": true
    },
    "kernelspec": {
      "name": "python3",
      "display_name": "Python 3"
    },
    "language_info": {
      "name": "python"
    }
  },
  "cells": [
    {
      "cell_type": "markdown",
      "metadata": {
        "id": "view-in-github",
        "colab_type": "text"
      },
      "source": [
        "<a href=\"https://colab.research.google.com/github/binliu0630/Others/blob/master/logging_example.ipynb\" target=\"_parent\"><img src=\"https://colab.research.google.com/assets/colab-badge.svg\" alt=\"Open In Colab\"/></a>"
      ]
    },
    {
      "cell_type": "code",
      "metadata": {
        "id": "nW9mIcsJJKFp"
      },
      "source": [
        "# logging\n",
        "import logging\n",
        "from logging.handlers import RotatingFileHandler\n",
        "import time\n",
        "\n",
        "# log file\n",
        "logFile = 'DOB.log' # file path\n",
        "datefmt = '%Y-%m-%d %H:%M:%S%z'\n",
        "# handler\n",
        "handler = RotatingFileHandler(\n",
        "    logFile, mode='a', maxBytes=50000, backupCount=10, encoding=None, delay=False\n",
        ")\n",
        "\n",
        "logging.Formatter.converter = time.localtime\n",
        "formatter = logging.Formatter(\n",
        "fmt='\\t ==== %(asctime)s - %(levelname)s - %(message)s ==== \\t', datefmt=datefmt)\n",
        "handler.setFormatter(formatter)\n",
        "\n",
        "# logger\n",
        "logger = logging.getLogger('Logger Name')\n",
        "logger.addHandler(handler)\n",
        "logger.setLevel(logging.INFO)"
      ],
      "execution_count": 4,
      "outputs": []
    },
    {
      "cell_type": "code",
      "metadata": {
        "id": "mKwH3sTuJYXG"
      },
      "source": [
        "logger.info('starting.....')"
      ],
      "execution_count": 5,
      "outputs": []
    },
    {
      "cell_type": "code",
      "metadata": {
        "id": "WtP34SN1J5_w"
      },
      "source": [
        ""
      ],
      "execution_count": 3,
      "outputs": []
    }
  ]
}