{
  "nbformat": 4,
  "nbformat_minor": 0,
  "metadata": {
    "colab": {
      "name": "logging.ipynb",
      "provenance": [],
      "authorship_tag": "ABX9TyPACjGEuuOhPuTdUU8WLQxm",
      "include_colab_link": true
    },
    "kernelspec": {
      "name": "python3",
      "display_name": "Python 3"
    },
    "language_info": {
      "name": "python"
    }
  },
  "cells": [
    {
      "cell_type": "markdown",
      "metadata": {
        "id": "view-in-github",
        "colab_type": "text"
      },
      "source": [
        "<a href=\"https://colab.research.google.com/github/binliu0630/Others/blob/master/logging.ipynb\" target=\"_parent\"><img src=\"https://colab.research.google.com/assets/colab-badge.svg\" alt=\"Open In Colab\"/></a>"
      ]
    },
    {
      "cell_type": "code",
      "execution_count": 13,
      "metadata": {
        "colab": {
          "base_uri": "https://localhost:8080/"
        },
        "id": "-XVd1SLx8TSq",
        "outputId": "27f1acd1-3f46-4811-8dfd-451b6f924ad5"
      },
      "outputs": [
        {
          "output_type": "stream",
          "name": "stderr",
          "text": [
            "\t ==== 2022-12-07 16:25:15+0000 - ERROR - this is an error ==== \t\n",
            "\t ==== 2022-12-07 16:25:15+0000 - ERROR - this is an error ==== \t\n",
            "\t ==== 2022-12-07 16:25:15+0000 - ERROR - this is an error ==== \t\n",
            "ERROR:customer_logger_name:this is an error\n"
          ]
        }
      ],
      "source": [
        "# logging\n",
        "import logging\n",
        "import time\n",
        "\n",
        "# 1. create a customer logger\n",
        "logger = logging.getLogger('customer_logger_name')\n",
        "# logger.setLevel(logging.INFO)\n",
        "\n",
        "# 2. create handler - a logger can have mulitple handlers\n",
        "\n",
        "handler_rfile = logging.handlers.RotatingFileHandler(\n",
        "    'test.log', mode='a', maxBytes=50000, backupCount=10, encoding=None, delay=False\n",
        ") # keep last 10 log file with max 50000b each\n",
        "handler_file = logging.FileHandler('test2.log')\n",
        "handler_stream = logging.StreamHandler()\n",
        "\n",
        "\n",
        "# set level on handler. \n",
        "handler_rfile.setLevel(logging.INFO)\n",
        "handler_file.setLevel(logging.ERROR)\n",
        "handler_stream.setLevel(logging.INFO)\n",
        "\n",
        "# 3. create formatter and add to handler\n",
        "## date format\n",
        "\n",
        "logging.Formatter.converter = time.localtime\n",
        "formatter = logging.Formatter(fmt='\\t ==== %(asctime)s - %(levelname)s - %(message)s ==== \\t', datefmt='%Y-%m-%d %H:%M:%S%z')\n",
        "handler_rfile.setFormatter(formatter)\n",
        "handler_file.setFormatter(formatter)\n",
        "handler_stream.setFormatter(formatter)\n",
        "\n",
        "\n",
        "# add handler to logger\n",
        "logger.addHandler(handler_rfile)\n",
        "logger.addHandler(handler_file)\n",
        "logger.addHandler(handler_stream)\n",
        "\n",
        "logger.info('starting.....')\n",
        "logger.info('pulling the traction data.....')\n",
        "logger.error('this is an error')"
      ]
    },
    {
      "cell_type": "code",
      "source": [
        "import logging\n",
        "\n",
        "import os\n",
        "\n",
        "os.environ['TF_CPP_MIN_LOG_LEVEL'] = '5'\n",
        "\n",
        "\n",
        "def get_log(name: str) -> object:\n",
        "    \"\"\"Wrapper for standard logging.\"\"\"\n",
        "    # create logger\n",
        "    logger = logging.getLogger(name)\n",
        "    logger.setLevel(logging.DEBUG)\n",
        "    # create console handler and set level to debug\n",
        "    ch = logging.StreamHandler()\n",
        "    ch.setLevel(logging.DEBUG)\n",
        "    # create formatter\n",
        "    log_format = '%(asctime)s | %(name)s | %(levelname)s | %(message)s'\n",
        "    formatter = logging.Formatter(log_format)\n",
        "    # add formatter to ch\n",
        "    ch.setFormatter(formatter)\n",
        "    # add ch to logger\n",
        "    logger.addHandler(ch)\n",
        "    logger.propagate = False\n",
        "\n",
        "    return logger"
      ],
      "metadata": {
        "id": "iSfKhZEA9jhz"
      },
      "execution_count": 14,
      "outputs": []
    },
    {
      "cell_type": "code",
      "source": [
        "logger = get_log('test')"
      ],
      "metadata": {
        "id": "CtYZQs7OaDTX"
      },
      "execution_count": 16,
      "outputs": []
    },
    {
      "cell_type": "code",
      "source": [
        "logger.info('hello')"
      ],
      "metadata": {
        "id": "vVGJhkd8aFXp",
        "outputId": "26ed5c79-ed14-4981-9338-96b70660a422",
        "colab": {
          "base_uri": "https://localhost:8080/"
        }
      },
      "execution_count": 17,
      "outputs": [
        {
          "output_type": "stream",
          "name": "stderr",
          "text": [
            "2022-12-07 16:26:09,052 | test | INFO | hello\n",
            "2022-12-07 16:26:09,052 | test | INFO | hello\n",
            "2022-12-07 16:26:09,052 | test | INFO | hello\n",
            "2022-12-07 16:26:09,052 | test | INFO | hello\n"
          ]
        }
      ]
    },
    {
      "cell_type": "code",
      "source": [],
      "metadata": {
        "id": "1SFV-TxraKD7"
      },
      "execution_count": null,
      "outputs": []
    }
  ]
}