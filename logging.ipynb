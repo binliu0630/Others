{
  "nbformat": 4,
  "nbformat_minor": 0,
  "metadata": {
    "colab": {
      "name": "logging.ipynb",
      "provenance": [],
      "authorship_tag": "ABX9TyOjeMCRij07+fzy0k4hgCB0",
      "include_colab_link": true
    },
    "kernelspec": {
      "name": "python3",
      "display_name": "Python 3"
    },
    "language_info": {
      "name": "python"
    }
  },
  "cells": [
    {
      "cell_type": "markdown",
      "metadata": {
        "id": "view-in-github",
        "colab_type": "text"
      },
      "source": [
        "<a href=\"https://colab.research.google.com/github/binliu0630/Others/blob/master/logging.ipynb\" target=\"_parent\"><img src=\"https://colab.research.google.com/assets/colab-badge.svg\" alt=\"Open In Colab\"/></a>"
      ]
    },
    {
      "cell_type": "code",
      "execution_count": 1,
      "metadata": {
        "colab": {
          "base_uri": "https://localhost:8080/"
        },
        "id": "-XVd1SLx8TSq",
        "outputId": "c584fe92-98a6-4c6b-b01a-e0a92aefdcb9"
      },
      "outputs": [
        {
          "output_type": "stream",
          "name": "stderr",
          "text": [
            "\t ==== 2022-03-03 22:46:21+0000 - ERROR - this is an error ==== \t\n"
          ]
        }
      ],
      "source": [
        "# logging\n",
        "import logging\n",
        "import time\n",
        "\n",
        "# 1. create a customer logger\n",
        "logger = logging.getLogger('customer_logger_name')\n",
        "# logger.setLevel(logging.INFO)\n",
        "\n",
        "# 2. create handler - a logger can have mulitple handlers\n",
        "\n",
        "handler_rfile = logging.handlers.RotatingFileHandler(\n",
        "    'test.log', mode='a', maxBytes=50000, backupCount=10, encoding=None, delay=False\n",
        ") # keep last 10 log file with max 50000b each\n",
        "handler_file = logging.FileHandler('test2.log')\n",
        "handler_stream = logging.StreamHandler()\n",
        "\n",
        "\n",
        "# set level on handler. \n",
        "handler_rfile.setLevel(logging.INFO)\n",
        "handler_file.setLevel(logging.ERROR)\n",
        "handler_stream.setLevel(logging.INFO)\n",
        "\n",
        "# 3. create formatter and add to handler\n",
        "## date format\n",
        "\n",
        "logging.Formatter.converter = time.localtime\n",
        "formatter = logging.Formatter(fmt='\\t ==== %(asctime)s - %(levelname)s - %(message)s ==== \\t', datefmt='%Y-%m-%d %H:%M:%S%z')\n",
        "handler_rfile.setFormatter(formatter)\n",
        "handler_file.setFormatter(formatter)\n",
        "handler_stream.setFormatter(formatter)\n",
        "\n",
        "\n",
        "# add handler to logger\n",
        "logger.addHandler(handler_rfile)\n",
        "logger.addHandler(handler_file)\n",
        "logger.addHandler(handler_stream)\n",
        "\n",
        "logger.info('starting.....')\n",
        "logger.info('pulling the traction data.....')\n",
        "logger.error('this is an error')"
      ]
    },
    {
      "cell_type": "code",
      "source": [
        ""
      ],
      "metadata": {
        "id": "iSfKhZEA9jhz"
      },
      "execution_count": null,
      "outputs": []
    }
  ]
}